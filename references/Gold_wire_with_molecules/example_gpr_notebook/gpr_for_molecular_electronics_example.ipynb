{
 "cells": [
  {
   "cell_type": "markdown",
   "metadata": {},
   "source": [
    "# Learning Conductance: Gaussian Process Regression for Molecular Electronics\n",
    "\n",
    "Exemplary python code to demonstrate the machine learning and data process techniques. The following examples are done for a single trajectory, as provided with this notebook. The full data set is provided via the NOMAD Repository and Archive, as described in the paper."
   ]
  },
  {
   "cell_type": "markdown",
   "metadata": {},
   "source": [
    "First, the necessary packages are loaded. `sklearn`, `dscribe`, `matplotlib`, `ase` and `numpy` are required."
   ]
  },
  {
   "cell_type": "code",
   "execution_count": 1,
   "metadata": {},
   "outputs": [],
   "source": [
    "import numpy as np\n",
    "import matplotlib.pyplot as plt\n",
    "from sklearn.gaussian_process.kernels import Matern\n",
    "from sklearn.gaussian_process import GaussianProcessRegressor\n",
    "from sklearn.metrics import r2_score, mean_absolute_error\n",
    "from sklearn.model_selection import train_test_split\n",
    "from dscribe import descriptors\n",
    "import ase as ase\n",
    "\n",
    "# this is used (but can be removed from the code) to give\n",
    "# some feedback about the timing of the code\n",
    "from tqdm import tqdm"
   ]
  },
  {
   "cell_type": "markdown",
   "metadata": {},
   "source": [
    "Now, we load the data (trajectories and conductance trace). *A Warning:* This script is not parallelized to make it more simple and clear. This leads to long calculation times when parsing the data and creating the feature vectors. Thus, the number of frames is set to only 50 here. You can uncomment the correspondig line in the part below, and grab a coffee."
   ]
  },
  {
   "cell_type": "code",
   "execution_count": 2,
   "metadata": {},
   "outputs": [
    {
     "name": "stdout",
     "output_type": "stream",
     "text": [
      "number of atoms : 534\n"
     ]
    },
    {
     "name": "stderr",
     "output_type": "stream",
     "text": [
      "100%|██████████| 100/100 [00:00<00:00, 956.08it/s]\n"
     ]
    }
   ],
   "source": [
    "# load lines of trajectory\n",
    "with open('trajectory_01.xyz') as file:\n",
    "    lines = file.readlines()\n",
    "    \n",
    "# parse lines\n",
    "atoms       = []\n",
    "natoms      = int(lines[0].strip('\\n'))\n",
    "print('number of atoms :', natoms, flush = True)\n",
    "\n",
    "coordinates = []\n",
    "\n",
    "\n",
    "# calculate number of snapshots in trajectory\n",
    "# CAUTION! For testing purposes this should be set to a \n",
    "# lower number, as these calculations take time!\n",
    "nframes     = int(len(lines)/(natoms+2))\n",
    "nframes     = 100 # override for testing purposes\n",
    "\n",
    "# get atom symbols. We only have to go through the first\n",
    "# snapshot, as these do not change\n",
    "for i in range(2, natoms+2):\n",
    "    atoms.append(lines[i].split()[0])\n",
    "\n",
    "# get coordinates\n",
    "for i in tqdm(range(nframes)):\n",
    "    coords_frame = []\n",
    "    for j in range(2, natoms+2):\n",
    "        #print(i, j, i*(natoms+2)+j,\n",
    "        #      lines[i*(natoms+2)+j].strip('\\n').split())\n",
    "        # split line\n",
    "        temp = lines[i*(natoms+2)+j].strip('\\n').split()[1:4]\n",
    "        coords_frame.append(np.array(temp, dtype = 'float'))\n",
    "\n",
    "    coordinates.append(np.array(coords_frame))\n",
    "\n",
    "coordinates = np.array(coordinates)\n",
    "\n",
    "# load conductance and make it logarithmic\n",
    "targets = np.log10(np.genfromtxt('transmission_01.dat'))"
   ]
  },
  {
   "cell_type": "markdown",
   "metadata": {},
   "source": [
    "Now, the coordinates from the trajectories have to be converted to a feature vector. Here, we will focus on the SOAP descriptor and a custom descriptor, which uses the size of the simulation box, the distance between the sulfur atoms and the distance from each sulfur atom to the closest gold atom. Information about the SOAP descriptor can be found in\n",
    "[De et.al., Comparing molecules and solids across structural and alchemical space, Physical Chemistry Chemical Physics, Royal Society of Chemistry (RSC), 2016, 18, 13754-13769](https://pubs.rsc.org/en/content/articlelanding/2016/cp/c6cp00415f) and [Jäger et.al.,\n",
    "Machine learning hydrogen adsorption on nanoclusters through structural descriptors \n",
    "npj Computational Materials, Springer Science and Business Media LLC, 2018, 4](https://www.nature.com/articles/s41524-018-0096-5). Information on the `dscribe` library can be found in [Himanen et.al.,\n",
    "DScribe: Library of descriptors for machine learning in materials science \n",
    "Computer Physics Communications, Elsevier BV, 2020, 247, 106949](https://www.sciencedirect.com/science/article/pii/S0010465519303042?via%3Dihub).\n",
    "\n",
    "Attention! Depending on the SOAP version, the `[0, :]` has to be removed in line 24 and 33.\n"
   ]
  },
  {
   "cell_type": "code",
   "execution_count": 3,
   "metadata": {},
   "outputs": [
    {
     "name": "stderr",
     "output_type": "stream",
     "text": [
      "100%|██████████| 100/100 [00:03<00:00, 25.72it/s]\n"
     ]
    }
   ],
   "source": [
    "# use soap descriptor\n",
    "# these are the settings we studied, which are slow\n",
    "soap = descriptors.SOAP(species = ['H', 'C', 'S', 'Au'],\n",
    "                        periodic = False,\n",
    "                        rcut = 14,\n",
    "                        nmax = 8,\n",
    "                        lmax = 4,\n",
    "                        average = 'outer',\n",
    "                        rbf = 'polynomial')\n",
    "\n",
    "# exemplary settings for a faster creation of the feature vector\n",
    "# rbf = 'polynomial' is especially expensive\n",
    "soap = descriptors.SOAP(species = ['H', 'C', 'S', 'Au'],\n",
    "                        periodic = False,\n",
    "                        rcut = 10,\n",
    "                        nmax = 4,\n",
    "                        lmax = 4,\n",
    "                        average = 'outer')\n",
    "\n",
    "# as the following process can be too memory-demanding for\n",
    "# smaller PCs, we prefere to use numpy, but first we have get the\n",
    "# dimensions of the feature vector with the chosen settings\n",
    "mol = ase.Atoms(np.array(atoms), coordinates[0])\n",
    "size_soap = len(soap.create(mol, n_jobs = 1)[0, :])\n",
    "\n",
    "# create empty numpy array\n",
    "features_soap = np.zeros([nframes, size_soap])\n",
    "\n",
    "# loop over coordinates and create feature vector for each\n",
    "# ATTENTION: This is slow!\n",
    "for i in tqdm(range(len(coordinates))):\n",
    "    mol = ase.Atoms(np.array(atoms), coordinates[i])\n",
    "    features_soap[i, :] = soap.create(mol, n_jobs = 1)[0, :]"
   ]
  },
  {
   "cell_type": "code",
   "execution_count": 4,
   "metadata": {},
   "outputs": [
    {
     "name": "stdout",
     "output_type": "stream",
     "text": [
      "Dimension of SOAP feature vector: (100, 680)\n"
     ]
    }
   ],
   "source": [
    "print('Dimension of SOAP feature vector:', np.shape(features_soap))"
   ]
  },
  {
   "cell_type": "code",
   "execution_count": 5,
   "metadata": {},
   "outputs": [
    {
     "name": "stderr",
     "output_type": "stream",
     "text": [
      "100%|██████████| 100/100 [00:00<00:00, 166.33it/s]\n"
     ]
    }
   ],
   "source": [
    "# use custom descriptor\n",
    "# get indices of sulfur and gold atoms\n",
    "ind_au = np.where(np.array(atoms) == 'Au')[0]\n",
    "ind_s  = np.where(np.array(atoms) == 'S')[0]\n",
    "\n",
    "features_custom = []\n",
    "for coords in tqdm(coordinates):\n",
    "    feature_vector = []\n",
    "\n",
    "    # we use ase again for distance calculations\n",
    "    mol = ase.Atoms(np.array(atoms), coords)\n",
    "    \n",
    "    # get size of simulation box by checking the smallest\n",
    "    # and largest z coordinates\n",
    "    feature_vector.append(np.max(coords[:, 2]) - np.min(coords[:, 2]))\n",
    "\n",
    "    # get S-Au distances\n",
    "    for s in ind_s:\n",
    "        dist = mol.get_distances(s, ind_au, mic = True)\n",
    "        feature_vector.append(min(dist))\n",
    "\n",
    "    # get distance between sulfur atoms\n",
    "    for i in range(len(ind_s)):\n",
    "        for j in range(i, len(ind_s)):\n",
    "            feature_vector.append(mol.get_distance(ind_s[i], ind_s[j], mic = True))\n",
    "\n",
    "\n",
    "    \n",
    "    # append single feature vector to features\n",
    "    features_custom.append(feature_vector)\n",
    "    \n",
    "features_custom = np.array(features_custom)"
   ]
  },
  {
   "cell_type": "code",
   "execution_count": 6,
   "metadata": {},
   "outputs": [
    {
     "name": "stdout",
     "output_type": "stream",
     "text": [
      "Dimension of custom feature vector: (100, 120)\n"
     ]
    }
   ],
   "source": [
    "print('Dimension of custom feature vector:', np.shape(features_custom))"
   ]
  },
  {
   "cell_type": "markdown",
   "metadata": {},
   "source": [
    "We are now ready to train a Gaussian Process and evaluate its performance. We perform a simple train-test-split here, but it should be noted that this is not appropriate to really estimate the performance of this approach. This, e.g., could be done by k-fold-CV, or repeated train-test-splits. We don't scale the features here, as this led to worse performance."
   ]
  },
  {
   "cell_type": "code",
   "execution_count": 7,
   "metadata": {},
   "outputs": [],
   "source": [
    "# perform splitting of the data sets\n",
    "# this line is a bit long\n",
    "features_soap_train, features_soap_test, features_custom_train, features_custom_test,targets_train, targets_test = train_test_split(features_soap, features_custom, targets[:nframes], train_size = 0.1)\n",
    "\n",
    "# prepare two instances of GPR\n",
    "gpr_soap = GaussianProcessRegressor(kernel = 1.0*Matern(1.0, nu = 1.5),\n",
    "                                    n_restarts_optimizer = 40)\n",
    "\n",
    "gpr_custom = GaussianProcessRegressor(kernel = 1.0*Matern(1.0, nu = 1.5),\n",
    "                                      n_restarts_optimizer = 40)\n",
    "\n",
    "# fit GPR for both features\n",
    "gpr_soap.fit(features_soap_train, targets_train)\n",
    "gpr_custom.fit(features_custom_train, targets_train)\n",
    "\n",
    "# get predictions\n",
    "predictions_soap = gpr_soap.predict(features_soap_test)\n",
    "predictions_custom = gpr_custom.predict(features_custom_test)"
   ]
  },
  {
   "cell_type": "markdown",
   "metadata": {},
   "source": [
    "To analyze the results, we plot scatter plots and print the mean absolute error and R²."
   ]
  },
  {
   "cell_type": "code",
   "execution_count": 8,
   "metadata": {},
   "outputs": [
    {
     "data": {
      "image/png": "[encoded data removed]",
      "text/plain": [
       "<Figure size 576x288 with 2 Axes>"
      ]
     },
     "metadata": {
      "needs_background": "light"
     },
     "output_type": "display_data"
    },
    {
     "name": "stdout",
     "output_type": "stream",
     "text": [
      "MAE (SOAP): 0.029355245051571333\n",
      "MAE (custom): 0.026484950830463427\n",
      "R2 (SOAP): -1.247460926634015\n",
      "R2 (custom): -2.707148596905418\n"
     ]
    }
   ],
   "source": [
    "fig, axes = plt.subplots(1, 2, sharex = True, sharey = True, figsize = (8,4))\n",
    "axes[0].set_title('SOAP')\n",
    "axes[0].set_xlabel('Conductance [log(G/G0)]')\n",
    "axes[0].set_ylabel('Conductance (predicted) [log(G/G0)]')\n",
    "axes[0].scatter(targets_test, predictions_soap, s = 0.2)\n",
    "\n",
    "axes[1].set_title('CUSTOM')\n",
    "axes[1].set_xlabel('Conductance [log(G/G0)]')\n",
    "axes[1].set_ylabel('Conductance (predicted) [log(G/G0)]')\n",
    "axes[1].scatter(targets_test, predictions_custom, s = 0.2)\n",
    "plt.show()\n",
    "\n",
    "print('MAE (SOAP):', mean_absolute_error(predictions_soap, targets_test))\n",
    "print('MAE (custom):', mean_absolute_error(predictions_custom, targets_test))\n",
    "print('R2 (SOAP):', r2_score(predictions_soap, targets_test))\n",
    "print('R2 (custom):', r2_score(predictions_custom, targets_test))"
   ]
  },
  {
   "cell_type": "markdown",
   "metadata": {},
   "source": [
    "We can also plot the histogram of the calculated and predicted conductance, but note that this is of limited use to systematically study the performance of different approaches."
   ]
  },
  {
   "cell_type": "code",
   "execution_count": 9,
   "metadata": {},
   "outputs": [
    {
     "data": {
      "image/png": "[encoded data removed]",
      "text/plain": [
       "<Figure size 576x288 with 2 Axes>"
      ]
     },
     "metadata": {
      "needs_background": "light"
     },
     "output_type": "display_data"
    }
   ],
   "source": [
    "fig, axes = plt.subplots(1, 2, sharex = True, sharey = True, figsize = (8,4))\n",
    "bins = np.linspace(-16, 4, 50)\n",
    "\n",
    "axes[0].set_title('SOAP')\n",
    "axes[0].plot(bins[1:], np.histogram(targets_test, bins = bins)[0], label = 'targets')\n",
    "axes[0].plot(bins[1:], np.histogram(predictions_soap, bins = bins)[0], label = 'prediction')\n",
    "\n",
    "axes[1].set_title('CUSTOM')\n",
    "axes[1].plot(bins[1:], np.histogram(targets_test, bins = bins)[0], label = 'targets')\n",
    "axes[1].plot(bins[1:], np.histogram(predictions_custom, bins = bins)[0], label = 'prediction')\n",
    "\n",
    "axes[0].set_xlim([4, -16])\n",
    "axes[1].set_xlim([4, -16])\n",
    "\n",
    "axes[0].set_xlabel('Conductance [log(G/G0)]')\n",
    "axes[1].set_xlabel('Conductance [log(G/G0)]')\n",
    "axes[0].set_ylabel('Counts')\n",
    "axes[1].set_ylabel('Counts')\n",
    "axes[0].legend()\n",
    "axes[1].legend()\n",
    "\n",
    "plt.show()"
   ]
  }
 ],
 "metadata": {
  "kernelspec": {
   "display_name": "Python 3",
   "language": "python",
   "name": "python3"
  },
  "language_info": {
   "codemirror_mode": {
    "name": "ipython",
    "version": 3
   },
   "file_extension": ".py",
   "mimetype": "text/x-python",
   "name": "python",
   "nbconvert_exporter": "python",
   "pygments_lexer": "ipython3",
   "version": "3.8.10"
  }
 },
 "nbformat": 4,
 "nbformat_minor": 4
}
